{
 "cells": [
  {
   "cell_type": "markdown",
   "id": "fc388ae8",
   "metadata": {},
   "source": [
    "# Requirements"
   ]
  },
  {
   "cell_type": "code",
   "execution_count": 1,
   "id": "0d129bb4",
   "metadata": {
    "ExecuteTime": {
     "end_time": "2025-02-13T17:40:20.899699Z",
     "start_time": "2025-02-13T17:40:20.310701Z"
    }
   },
   "outputs": [],
   "source": [
    "from itertools import product\n",
    "import pandas as pd\n",
    "import numpy as np"
   ]
  },
  {
   "cell_type": "markdown",
   "id": "c6632d00",
   "metadata": {},
   "source": [
    "# Introduction"
   ]
  },
  {
   "cell_type": "markdown",
   "id": "07b99ea8",
   "metadata": {},
   "source": [
    "# Introduction to Classical Logic Gates\n",
    "\n",
    "Classical logic gates are the fundamental building blocks of digital circuits. They are used in various electronic devices and computing systems to perform basic logical operations. Each gate processes one or more binary inputs (0 or 1) to produce a single binary output. Understanding these gates is crucial for anyone studying electronics, computer engineering, or computer science. The most common classical logic gates are:\n",
    "\n",
    "1. **NOT Gate**: A unary gate that inverts the input.\n",
    "2. **AND Gate**: Outputs 1 only if all inputs are 1.\n",
    "3. **OR Gate**: Outputs 1 if at least one input is 1.\n",
    "4. **XOR Gate**: Outputs 1 only if the inputs are different.\n",
    "5. **NAND Gate**: The inverse of AND Gate.\n",
    "6. **NOR Gate**: The inverse of OR Gate.\n",
    "7. **XNOR Gate**: The inverse of XOR Gate."
   ]
  },
  {
   "cell_type": "markdown",
   "id": "a9a57c83",
   "metadata": {},
   "source": [
    "![Local Image](./images/classgates01.png)"
   ]
  },
  {
   "cell_type": "markdown",
   "id": "25a68785",
   "metadata": {},
   "source": [
    "# Functions"
   ]
  },
  {
   "cell_type": "markdown",
   "id": "9ecf11d1",
   "metadata": {
    "ExecuteTime": {
     "end_time": "2023-12-16T17:36:37.507562Z",
     "start_time": "2023-12-16T17:36:37.502572Z"
    }
   },
   "source": [
    "## Classic gates"
   ]
  },
  {
   "cell_type": "code",
   "execution_count": 2,
   "id": "952f03ba",
   "metadata": {
    "ExecuteTime": {
     "end_time": "2025-02-13T17:40:20.915699Z",
     "start_time": "2025-02-13T17:40:20.901700Z"
    }
   },
   "outputs": [],
   "source": [
    "# Function to simulate OR Gate\n",
    "def OR(a, b):\n",
    "    return a | b\n",
    "\n",
    "# Function to simulate AND Gate\n",
    "def AND(a, b):\n",
    "    return a & b\n",
    "\n",
    "# Function to simulate NOT Gate\n",
    "def NOT(a):\n",
    "    return ~a+2\n",
    "\n",
    "# Function to simulate NAND Gate\n",
    "def NAND(a, b):\n",
    "    return int(not(a and b))\n",
    "\n",
    "# Function to simulate NOR Gate\n",
    "def NOR(a, b):\n",
    "    return int(not(a or b))\n",
    "\n",
    "# Function to simulate XOR Gate\n",
    "def XOR(a, b):\n",
    "    return int(a ^ b)\n",
    "\n",
    "# Function to simulate XNOR Gate\n",
    "def XNOR(a, b):\n",
    "    return int(not(a ^ b))\n",
    "\n",
    "def circuit1(a, b, c):\n",
    "    return int(a and b or not c)\n",
    "\n",
    "def circuit2(a, b, c):\n",
    "    return int(a and not(b or c))\n",
    "\n",
    "def circuit3(a, b, c):\n",
    "    return int(XNOR(a and b, not(a or not c)))"
   ]
  },
  {
   "cell_type": "markdown",
   "id": "be603356",
   "metadata": {},
   "source": [
    "## results class gates"
   ]
  },
  {
   "cell_type": "code",
   "execution_count": 3,
   "id": "ca56a1f7",
   "metadata": {
    "ExecuteTime": {
     "end_time": "2025-02-13T17:40:20.931699Z",
     "start_time": "2025-02-13T17:40:20.916701Z"
    }
   },
   "outputs": [],
   "source": [
    "def print_classgates():\n",
    "    test_inputs = np.array(list(product([0, 1], repeat=2)))\n",
    "    df_input = pd.DataFrame({'a':test_inputs[:,0], 'b':test_inputs[:,1]})\n",
    "    # Results\n",
    "    results = {\n",
    "        \"NOT(a)\": [NOT(a[0]) for a in test_inputs],\n",
    "        \"AND(a,b)\": [AND(a[0], a[1]) for a in test_inputs],\n",
    "        \"OR(a,b)\": [OR(a[0], a[1]) for a in test_inputs],\n",
    "        \"XOR(a,b)\": [XOR(a[0], a[1]) for a in test_inputs],\n",
    "        \"NAND(a,b)\": [NAND(a[0], a[1]) for a in test_inputs],\n",
    "        \"NOR(a,b)\": [NOR(a[0], a[1]) for a in test_inputs],\n",
    "        \"XNOR(a,b)\": [XNOR(a[0], a[1]) for a in test_inputs],\n",
    "                }\n",
    "    df_output = pd.DataFrame(results)\n",
    "    df = df_input.join(df_output)\n",
    "    return df\n",
    "\n",
    "def print_circuits():\n",
    "    test_inputs = np.array(list(product([0, 1], repeat=3)))\n",
    "    df_input = pd.DataFrame({'a':test_inputs[:,0], 'b':test_inputs[:,1],'c':test_inputs[:,2]})\n",
    "    out = {'Circ1':[circuit1(a[0],a[1],a[2]) for a in test_inputs],\n",
    "           'Circ2':[circuit2(a[0],a[1],a[2]) for a in test_inputs],\n",
    "           'Circ3':[circuit3(a[0],a[1],a[2]) for a in test_inputs],\n",
    "          }\n",
    "    df = df_input.join(pd.DataFrame(out))\n",
    "    return df"
   ]
  },
  {
   "cell_type": "markdown",
   "id": "b4846337",
   "metadata": {},
   "source": [
    "# Classical gates"
   ]
  },
  {
   "cell_type": "code",
   "execution_count": 4,
   "id": "a9889471",
   "metadata": {
    "ExecuteTime": {
     "end_time": "2025-02-13T17:40:20.947699Z",
     "start_time": "2025-02-13T17:40:20.932704Z"
    }
   },
   "outputs": [],
   "source": [
    "# generates 2-uples with test inputs\n",
    "test_inputs = list(product([0, 1], repeat=2))\n",
    "# runs the function to generate classical gates outputs\n",
    "df1 = print_classgates()\n",
    "df2 = print_circuits()"
   ]
  },
  {
   "cell_type": "code",
   "execution_count": 5,
   "id": "f00ae4b2",
   "metadata": {
    "ExecuteTime": {
     "end_time": "2025-02-13T17:40:20.963699Z",
     "start_time": "2025-02-13T17:40:20.948700Z"
    }
   },
   "outputs": [
    {
     "data": {
      "text/html": [
       "<div>\n",
       "<style scoped>\n",
       "    .dataframe tbody tr th:only-of-type {\n",
       "        vertical-align: middle;\n",
       "    }\n",
       "\n",
       "    .dataframe tbody tr th {\n",
       "        vertical-align: top;\n",
       "    }\n",
       "\n",
       "    .dataframe thead th {\n",
       "        text-align: right;\n",
       "    }\n",
       "</style>\n",
       "<table border=\"1\" class=\"dataframe\">\n",
       "  <thead>\n",
       "    <tr style=\"text-align: right;\">\n",
       "      <th></th>\n",
       "      <th>a</th>\n",
       "      <th>b</th>\n",
       "      <th>NOT(a)</th>\n",
       "      <th>AND(a,b)</th>\n",
       "      <th>OR(a,b)</th>\n",
       "      <th>XOR(a,b)</th>\n",
       "      <th>NAND(a,b)</th>\n",
       "      <th>NOR(a,b)</th>\n",
       "      <th>XNOR(a,b)</th>\n",
       "    </tr>\n",
       "  </thead>\n",
       "  <tbody>\n",
       "    <tr>\n",
       "      <th>0</th>\n",
       "      <td>0</td>\n",
       "      <td>0</td>\n",
       "      <td>1</td>\n",
       "      <td>0</td>\n",
       "      <td>0</td>\n",
       "      <td>0</td>\n",
       "      <td>1</td>\n",
       "      <td>1</td>\n",
       "      <td>1</td>\n",
       "    </tr>\n",
       "    <tr>\n",
       "      <th>1</th>\n",
       "      <td>0</td>\n",
       "      <td>1</td>\n",
       "      <td>1</td>\n",
       "      <td>0</td>\n",
       "      <td>1</td>\n",
       "      <td>1</td>\n",
       "      <td>1</td>\n",
       "      <td>0</td>\n",
       "      <td>0</td>\n",
       "    </tr>\n",
       "    <tr>\n",
       "      <th>2</th>\n",
       "      <td>1</td>\n",
       "      <td>0</td>\n",
       "      <td>0</td>\n",
       "      <td>0</td>\n",
       "      <td>1</td>\n",
       "      <td>1</td>\n",
       "      <td>1</td>\n",
       "      <td>0</td>\n",
       "      <td>0</td>\n",
       "    </tr>\n",
       "    <tr>\n",
       "      <th>3</th>\n",
       "      <td>1</td>\n",
       "      <td>1</td>\n",
       "      <td>0</td>\n",
       "      <td>1</td>\n",
       "      <td>1</td>\n",
       "      <td>0</td>\n",
       "      <td>0</td>\n",
       "      <td>0</td>\n",
       "      <td>1</td>\n",
       "    </tr>\n",
       "  </tbody>\n",
       "</table>\n",
       "</div>"
      ],
      "text/plain": [
       "   a  b  NOT(a)  AND(a,b)  OR(a,b)  XOR(a,b)  NAND(a,b)  NOR(a,b)  XNOR(a,b)\n",
       "0  0  0       1         0        0         0          1         1          1\n",
       "1  0  1       1         0        1         1          1         0          0\n",
       "2  1  0       0         0        1         1          1         0          0\n",
       "3  1  1       0         1        1         0          0         0          1"
      ]
     },
     "execution_count": 5,
     "metadata": {},
     "output_type": "execute_result"
    }
   ],
   "source": [
    "df1"
   ]
  },
  {
   "cell_type": "code",
   "execution_count": 6,
   "id": "13b148ac",
   "metadata": {
    "ExecuteTime": {
     "end_time": "2025-02-13T17:40:20.979699Z",
     "start_time": "2025-02-13T17:40:20.964700Z"
    }
   },
   "outputs": [
    {
     "data": {
      "text/html": [
       "<div>\n",
       "<style scoped>\n",
       "    .dataframe tbody tr th:only-of-type {\n",
       "        vertical-align: middle;\n",
       "    }\n",
       "\n",
       "    .dataframe tbody tr th {\n",
       "        vertical-align: top;\n",
       "    }\n",
       "\n",
       "    .dataframe thead th {\n",
       "        text-align: right;\n",
       "    }\n",
       "</style>\n",
       "<table border=\"1\" class=\"dataframe\">\n",
       "  <thead>\n",
       "    <tr style=\"text-align: right;\">\n",
       "      <th></th>\n",
       "      <th>a</th>\n",
       "      <th>b</th>\n",
       "      <th>c</th>\n",
       "      <th>Circ1</th>\n",
       "      <th>Circ2</th>\n",
       "      <th>Circ3</th>\n",
       "    </tr>\n",
       "  </thead>\n",
       "  <tbody>\n",
       "    <tr>\n",
       "      <th>0</th>\n",
       "      <td>0</td>\n",
       "      <td>0</td>\n",
       "      <td>0</td>\n",
       "      <td>1</td>\n",
       "      <td>0</td>\n",
       "      <td>1</td>\n",
       "    </tr>\n",
       "    <tr>\n",
       "      <th>1</th>\n",
       "      <td>0</td>\n",
       "      <td>0</td>\n",
       "      <td>1</td>\n",
       "      <td>0</td>\n",
       "      <td>0</td>\n",
       "      <td>0</td>\n",
       "    </tr>\n",
       "    <tr>\n",
       "      <th>2</th>\n",
       "      <td>0</td>\n",
       "      <td>1</td>\n",
       "      <td>0</td>\n",
       "      <td>1</td>\n",
       "      <td>0</td>\n",
       "      <td>1</td>\n",
       "    </tr>\n",
       "    <tr>\n",
       "      <th>3</th>\n",
       "      <td>0</td>\n",
       "      <td>1</td>\n",
       "      <td>1</td>\n",
       "      <td>0</td>\n",
       "      <td>0</td>\n",
       "      <td>0</td>\n",
       "    </tr>\n",
       "    <tr>\n",
       "      <th>4</th>\n",
       "      <td>1</td>\n",
       "      <td>0</td>\n",
       "      <td>0</td>\n",
       "      <td>1</td>\n",
       "      <td>1</td>\n",
       "      <td>1</td>\n",
       "    </tr>\n",
       "    <tr>\n",
       "      <th>5</th>\n",
       "      <td>1</td>\n",
       "      <td>0</td>\n",
       "      <td>1</td>\n",
       "      <td>0</td>\n",
       "      <td>0</td>\n",
       "      <td>1</td>\n",
       "    </tr>\n",
       "    <tr>\n",
       "      <th>6</th>\n",
       "      <td>1</td>\n",
       "      <td>1</td>\n",
       "      <td>0</td>\n",
       "      <td>1</td>\n",
       "      <td>0</td>\n",
       "      <td>0</td>\n",
       "    </tr>\n",
       "    <tr>\n",
       "      <th>7</th>\n",
       "      <td>1</td>\n",
       "      <td>1</td>\n",
       "      <td>1</td>\n",
       "      <td>1</td>\n",
       "      <td>0</td>\n",
       "      <td>0</td>\n",
       "    </tr>\n",
       "  </tbody>\n",
       "</table>\n",
       "</div>"
      ],
      "text/plain": [
       "   a  b  c  Circ1  Circ2  Circ3\n",
       "0  0  0  0      1      0      1\n",
       "1  0  0  1      0      0      0\n",
       "2  0  1  0      1      0      1\n",
       "3  0  1  1      0      0      0\n",
       "4  1  0  0      1      1      1\n",
       "5  1  0  1      0      0      1\n",
       "6  1  1  0      1      0      0\n",
       "7  1  1  1      1      0      0"
      ]
     },
     "execution_count": 6,
     "metadata": {},
     "output_type": "execute_result"
    }
   ],
   "source": [
    "df2"
   ]
  },
  {
   "cell_type": "markdown",
   "id": "40298221",
   "metadata": {},
   "source": [
    "# References\n",
    "\n",
    "* [Luminescent properties of PbX quantum dots](https://www.researchgate.net/publication/327671865_Luminescent_properties_of_Pb-based_PbX_colloidal_quantum_dots_CQDs_in_vacuum_on_silicon_and_integrated_with_a_silicon-on-insulator_SOI_photonic_integrated_circuit_PIC/figures?lo=1)\n",
    "* https://www.researchgate.net/publication/363833055_Modelling_Logic_Gates_in_Python\n",
    "* https://www.digitalocean.com/community/tutorials/logic-gates-in-python\n",
    "* https://www.geeksforgeeks.org/logic-gates-in-python/\n",
    "* https://gamedevacademy.org/python-logic-gates-tutorial-complete-guide/"
   ]
  }
 ],
 "metadata": {
  "hide_input": false,
  "kernelspec": {
   "display_name": "Python 3 (ipykernel)",
   "language": "python",
   "name": "python3"
  },
  "language_info": {
   "codemirror_mode": {
    "name": "ipython",
    "version": 3
   },
   "file_extension": ".py",
   "mimetype": "text/x-python",
   "name": "python",
   "nbconvert_exporter": "python",
   "pygments_lexer": "ipython3",
   "version": "3.9.13"
  },
  "toc": {
   "base_numbering": 1,
   "nav_menu": {},
   "number_sections": true,
   "sideBar": true,
   "skip_h1_title": false,
   "title_cell": "Table of Contents",
   "title_sidebar": "Contents",
   "toc_cell": false,
   "toc_position": {
    "height": "calc(100% - 180px)",
    "left": "10px",
    "top": "150px",
    "width": "307.2px"
   },
   "toc_section_display": true,
   "toc_window_display": false
  },
  "varInspector": {
   "cols": {
    "lenName": 16,
    "lenType": 16,
    "lenVar": 40
   },
   "kernels_config": {
    "python": {
     "delete_cmd_postfix": "",
     "delete_cmd_prefix": "del ",
     "library": "var_list.py",
     "varRefreshCmd": "print(var_dic_list())"
    },
    "r": {
     "delete_cmd_postfix": ") ",
     "delete_cmd_prefix": "rm(",
     "library": "var_list.r",
     "varRefreshCmd": "cat(var_dic_list()) "
    }
   },
   "types_to_exclude": [
    "module",
    "function",
    "builtin_function_or_method",
    "instance",
    "_Feature"
   ],
   "window_display": false
  }
 },
 "nbformat": 4,
 "nbformat_minor": 5
}

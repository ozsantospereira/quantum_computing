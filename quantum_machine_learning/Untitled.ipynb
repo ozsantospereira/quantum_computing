{
 "cells": [
  {
   "cell_type": "code",
   "execution_count": 1,
   "id": "8981a8a4",
   "metadata": {
    "ExecuteTime": {
     "end_time": "2025-02-17T04:19:04.462067Z",
     "start_time": "2025-02-17T04:19:02.255072Z"
    }
   },
   "outputs": [],
   "source": [
    "import pennylane as qml\n",
    "import numpy as np\n",
    "from pennylane.optimize import AdamOptimizer, NesterovMomentumOptimizer, AdagradOptimizer\n",
    "import matplotlib.pyplot as plt"
   ]
  },
  {
   "cell_type": "code",
   "execution_count": 2,
   "id": "a7b28462",
   "metadata": {
    "ExecuteTime": {
     "end_time": "2025-02-17T04:19:04.874070Z",
     "start_time": "2025-02-17T04:19:04.464069Z"
    }
   },
   "outputs": [],
   "source": [
    "import numpy as np\n",
    "import pandas as pd\n",
    "\n",
    "def generate_parity_data(n_bits, num_samples):\n",
    "    \"\"\"\n",
    "    Generate synthetic data for the n-bit parity problem.\n",
    "    \n",
    "    Parameters:\n",
    "    - n_bits: Number of input bits.\n",
    "    - num_samples: Number of samples to generate.\n",
    "    \n",
    "    Returns:\n",
    "    - A DataFrame with n_bits input features and a target label (0 or 1).\n",
    "    \"\"\"\n",
    "    X = np.random.randint(0, 2, size=(num_samples, n_bits))  # Generate random binary input\n",
    "    y = np.sum(X, axis=1) % 2  # Compute parity (sum of bits mod 2)\n",
    "    df = pd.DataFrame(X, columns=[f'bit_{i}' for i in range(n_bits)])\n",
    "    df['label'] = y\n",
    "    return df\n",
    "\n",
    "# Generate datasets for 3-bit and 5-bit parity problems\n",
    "train_3bit = generate_parity_data(n_bits=3, num_samples=1000)\n",
    "test_3bit = generate_parity_data(n_bits=3, num_samples=200)\n",
    "\n",
    "train_5bit = generate_parity_data(n_bits=5, num_samples=1000)\n",
    "test_5bit = generate_parity_data(n_bits=5, num_samples=200)"
   ]
  },
  {
   "cell_type": "code",
   "execution_count": 4,
   "id": "b4472b39",
   "metadata": {
    "ExecuteTime": {
     "end_time": "2025-02-17T04:20:46.787068Z",
     "start_time": "2025-02-17T04:20:46.778069Z"
    }
   },
   "outputs": [],
   "source": [
    "# Initialize device\n",
    "num_qubits = 4\n",
    "dev = qml.device(\"default.qubit\", wires=num_qubits)\n",
    "\n",
    "# Define a layer of the variational quantum circuit\n",
    "def layer(weights):\n",
    "    for i in range(num_qubits):\n",
    "        qml.Rot(*weights[i], wires=i)\n",
    "    for i in range(num_qubits):\n",
    "        qml.CNOT(wires=[i, (i+1) % num_qubits])\n",
    "\n",
    "# Data re-uploading in state preparation\n",
    "def state_preparation(x):\n",
    "    for i in range(num_qubits):\n",
    "        qml.RX(x[i % len(x)], wires=i)\n"
   ]
  },
  {
   "cell_type": "code",
   "execution_count": 5,
   "id": "441c2558",
   "metadata": {
    "ExecuteTime": {
     "end_time": "2025-02-17T04:21:03.241069Z",
     "start_time": "2025-02-17T04:21:03.236067Z"
    }
   },
   "outputs": [],
   "source": [
    "@qml.qnode(dev, interface='autograd')\n",
    "def circuit(weights, x):\n",
    "    state_preparation(x)\n",
    "    for w in weights:\n",
    "        layer(w)\n",
    "    return qml.expval(qml.PauliZ(0))\n",
    "\n",
    "def variational_classifier(weights, bias, x):\n",
    "    return circuit(weights, x) + bias"
   ]
  },
  {
   "cell_type": "code",
   "execution_count": 6,
   "id": "e9fa5911",
   "metadata": {
    "ExecuteTime": {
     "end_time": "2025-02-17T04:21:13.291068Z",
     "start_time": "2025-02-17T04:21:13.277068Z"
    }
   },
   "outputs": [],
   "source": [
    "def square_loss(labels, predictions):\n",
    "    return qml.numpy.mean((labels - predictions) ** 2)\n",
    "\n",
    "def accuracy(labels, predictions):\n",
    "    return qml.numpy.mean(labels == qml.numpy.sign(predictions))\n",
    "\n",
    "def cost(weights, bias, X, Y):\n",
    "    predictions = qml.numpy.array([variational_classifier(weights, bias, x) for x in X])\n",
    "    return square_loss(Y, predictions)"
   ]
  },
  {
   "cell_type": "code",
   "execution_count": 14,
   "id": "d985f007",
   "metadata": {
    "ExecuteTime": {
     "end_time": "2025-02-17T04:28:47.522069Z",
     "start_time": "2025-02-17T04:28:47.511070Z"
    }
   },
   "outputs": [],
   "source": [
    "def generate_quantum_data(num_features, num_samples):\n",
    "    X = np.random.uniform(0, 2 * np.pi, size=(num_samples, num_features))  # Generate angles in [0, 2π]\n",
    "    y = np.random.choice([-1, 1], size=num_samples)  # Binary labels for classification\n",
    "    return X, y\n",
    "\n",
    "# Set parameters matching the quantum circuit (4 qubits)\n",
    "num_qubits = 4\n",
    "num_samples = 500\n",
    "\n",
    "# Generate synthetic quantum data\n",
    "X_quantum, y_quantum = generate_quantum_data(num_qubits, num_samples)\n",
    "\n",
    "# Convert to DataFrame for easier inspection\n",
    "df = pd.DataFrame(X_quantum, columns=[f'feature_{i}' for i in range(num_qubits)])\n",
    "df['label'] = y_quantum\n",
    "\n",
    "X_train = np.array(df.drop(columns = 'label'))\n",
    "y_train = np.array(df['label'])"
   ]
  },
  {
   "cell_type": "code",
   "execution_count": null,
   "id": "e2690cc7",
   "metadata": {
    "ExecuteTime": {
     "start_time": "2025-02-17T04:28:55.143Z"
    }
   },
   "outputs": [
    {
     "name": "stdout",
     "output_type": "stream",
     "text": [
      "Iteration: 10 | Cost: 1.2538 | Training Accuracy: 0.5120\n",
      "Iteration: 20 | Cost: 1.4046 | Training Accuracy: 0.5120\n"
     ]
    }
   ],
   "source": [
    "np.random.seed(0)\n",
    "num_layers = 4\n",
    "weights_init = 0.01 * np.random.randn(num_layers, num_qubits, 3)\n",
    "weights_init = qml.numpy.array(weights_init, requires_grad=True)\n",
    "bias_init = qml.numpy.array(0.0, requires_grad=True)\n",
    "\n",
    "opt = NesterovMomentumOptimizer(0.1)\n",
    "batch_size = 10\n",
    "num_iterations = 100\n",
    "\n",
    "weights = weights_init\n",
    "bias = bias_init\n",
    "\n",
    "costs = []\n",
    "\n",
    "for it in range(num_iterations):\n",
    "    # Random batch sampling\n",
    "    batch_index = np.random.randint(0, len(X_train), (batch_size,))\n",
    "    X_batch = X_train[batch_index]\n",
    "    Y_batch = y_train[batch_index]\n",
    "\n",
    "    weights, bias = opt.step(cost, weights, bias, X=qml.numpy.array(X_batch), Y=qml.numpy.array(Y_batch))\n",
    "\n",
    "    # Accuracy and cost on the training set\n",
    "    predictions = [variational_classifier(weights, bias, x) for x in X_train]\n",
    "    acc_train = accuracy(y_train, qml.numpy.sign(predictions))\n",
    "    cost_train = cost(weights, bias, X_train, y_train)\n",
    "    costs.append(cost_train)\n",
    "\n",
    "    if (it + 1) % 10 == 0:\n",
    "        print(f\"Iteration: {it + 1} | Cost: {cost_train:.4f} | Training Accuracy: {acc_train:.4f}\")\n",
    "\n",
    "# Evaluation on the test set\n",
    "predictions_test = [variational_classifier(weights, bias, x) for x in X_test]\n",
    "acc_test = accuracy(y_test, qml.numpy.sign(predictions_test))\n",
    "\n",
    "print(f\"Test Accuracy: {acc_test:.4f}\")\n",
    "\n",
    "# Plotting the cost over iterations\n",
    "plt.plot(costs)\n",
    "plt.xlabel(\"Iteration\")\n",
    "plt.ylabel(\"Cost\")\n",
    "plt.title(\"Cost over Iterations\")\n",
    "plt.show()"
   ]
  }
 ],
 "metadata": {
  "hide_input": false,
  "kernelspec": {
   "display_name": "Python 3 (ipykernel)",
   "language": "python",
   "name": "python3"
  },
  "language_info": {
   "codemirror_mode": {
    "name": "ipython",
    "version": 3
   },
   "file_extension": ".py",
   "mimetype": "text/x-python",
   "name": "python",
   "nbconvert_exporter": "python",
   "pygments_lexer": "ipython3",
   "version": "3.9.13"
  },
  "toc": {
   "base_numbering": 1,
   "nav_menu": {},
   "number_sections": true,
   "sideBar": true,
   "skip_h1_title": false,
   "title_cell": "Table of Contents",
   "title_sidebar": "Contents",
   "toc_cell": false,
   "toc_position": {},
   "toc_section_display": true,
   "toc_window_display": false
  },
  "varInspector": {
   "cols": {
    "lenName": 16,
    "lenType": 16,
    "lenVar": 40
   },
   "kernels_config": {
    "python": {
     "delete_cmd_postfix": "",
     "delete_cmd_prefix": "del ",
     "library": "var_list.py",
     "varRefreshCmd": "print(var_dic_list())"
    },
    "r": {
     "delete_cmd_postfix": ") ",
     "delete_cmd_prefix": "rm(",
     "library": "var_list.r",
     "varRefreshCmd": "cat(var_dic_list()) "
    }
   },
   "types_to_exclude": [
    "module",
    "function",
    "builtin_function_or_method",
    "instance",
    "_Feature"
   ],
   "window_display": false
  }
 },
 "nbformat": 4,
 "nbformat_minor": 5
}

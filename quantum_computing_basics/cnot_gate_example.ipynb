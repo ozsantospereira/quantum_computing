{
 "cells": [
  {
   "cell_type": "markdown",
   "id": "cec68b77",
   "metadata": {},
   "source": [
    "When you apply the CNOT gate on the state $|00\\rangle$ what you will get out is the state $|00\\rangle$, as the CNOT gate logically does the following:\n",
    "\n",
    "$$\n",
    "CNOT |00\\rangle = |00\\rangle,\n",
    "$$\n",
    "\n",
    "$$\n",
    "CNOT |01\\rangle = |01\\rangle, \n",
    "$$\n",
    "\n",
    "$$\n",
    "CNOT |10\\rangle = |11\\rangle, \n",
    "$$\n",
    "\n",
    "$$\n",
    "CNOT |11\\rangle = |10\\rangle\n",
    "$$\n",
    "\n",
    "where \n",
    "\n",
    "$$\n",
    "\\left\\{ |0\\rangle = \\begin{pmatrix} 1 \\\\ 0 \\end{pmatrix}, |1\\rangle = \\begin{pmatrix} 0 \\\\ 1 \\end{pmatrix} \\right\\}\n",
    "$$\n",
    "\n",
    "represents the computational basis. Here we are taking the first qubit as the controlled qubit, and the second qubit as the target qubit. That is, if the first (Controlled) qubit is in the state $|1\\rangle$ then you apply the $X$ (NOT) gate to the second (Target) qubit, otherwise you do nothing. Thus, in this setting the CNOT gate has matrix representation (in the computational basis) as:\n",
    "\n",
    "$$\n",
    "CNOT =\n",
    "\\begin{pmatrix}\n",
    "1 & 0 & 0 & 0 \\\\\n",
    "0 & 1 & 0 & 0 \\\\\n",
    "0 & 0 & 0 & 1 \\\\\n",
    "0 & 0 & 1 & 0\n",
    "\\end{pmatrix}\n",
    "$$\n",
    "\n",
    "so that is what you implement when you run the circuit."
   ]
  },
  {
   "cell_type": "code",
   "execution_count": 1,
   "id": "246c1620",
   "metadata": {
    "ExecuteTime": {
     "end_time": "2025-02-28T03:42:46.806123Z",
     "start_time": "2025-02-28T03:42:45.650126Z"
    }
   },
   "outputs": [
    {
     "data": {
      "image/png": "[encoded data removed]",
      "text/plain": [
       "<Figure size 203.683x284.278 with 1 Axes>"
      ]
     },
     "execution_count": 1,
     "metadata": {},
     "output_type": "execute_result"
    }
   ],
   "source": [
    "from qiskit import QuantumRegister, ClassicalRegister, QuantumCircuit\n",
    "\n",
    "# Create a quantum register with 2 qubits and name it 'q'\n",
    "qreg_q = QuantumRegister(2, 'q')\n",
    "\n",
    "# Create a classical register with 2 classical bits and name it 'c'\n",
    "creg_c = ClassicalRegister(2, 'c')\n",
    "\n",
    "# Initialize a quantum circuit with the defined quantum and classical registers\n",
    "circuit = QuantumCircuit(qreg_q, creg_c)\n",
    "\n",
    "# Apply a CNOT (Controlled-NOT) gate with qreg_q[0] as the control qubit\n",
    "# and qreg_q[1] as the target qubit. This flips the target qubit if the control is |1⟩.\n",
    "circuit.cx(qreg_q[0], qreg_q[1])\n",
    "\n",
    "# Draw the quantum circuit using the 'mpl' (matplotlib) backend\n",
    "# Style: 'bw' (black and white), without barriers, and scale factor set to 1\n",
    "circuit.draw('mpl', style={'name': 'bw'}, plot_barriers=False, scale=1)"
   ]
  },
  {
   "cell_type": "markdown",
   "id": "a3ebf22a",
   "metadata": {},
   "source": [
    "As always, all states in a quantum computer start at the state \n",
    "\n",
    "$$\n",
    "|00\\cdots 0\\rangle .\n",
    "$$ \n",
    "\n",
    "Hence, this means that for our circuit above $q_0 = |0\\rangle$ and $q_1 = |0\\rangle$, so the starting state is\n",
    "\n",
    "$$\n",
    "|00\\rangle = |0\\rangle \\otimes |0\\rangle = \\begin{pmatrix} 1 \\\\ 0 \\end{pmatrix} \\otimes \\begin{pmatrix} 1 \\\\ 0 \\end{pmatrix} = \\begin{pmatrix} 1 \\\\ 0 \\\\ 0 \\\\ 0 \\end{pmatrix}\n",
    "$$\n",
    "\n",
    "Notice that\n",
    "\n",
    "$$\n",
    "CNOT |00\\rangle =\n",
    "\\begin{pmatrix}\n",
    "1 & 0 & 0 & 0 \\\\\n",
    "0 & 1 & 0 & 0 \\\\\n",
    "0 & 0 & 0 & 1 \\\\\n",
    "0 & 0 & 1 & 0\n",
    "\\end{pmatrix}\n",
    "\\begin{pmatrix} 1 \\\\ 0 \\\\ 0 \\\\ 0 \\end{pmatrix}\n",
    "=\n",
    "\\begin{pmatrix} 1 \\\\ 0 \\\\ 0 \\\\ 0 \\end{pmatrix}\n",
    "= |00\\rangle\n",
    "$$\n",
    "\n",
    "The input is the state of $|00\\rangle$ and the output is also $|00\\rangle$. Note that: `circuit.cx(qreg_q[0], qreg_q[1])` indicates that the controlled qubit is in the quantum register `qreg_q[0]` and it will act on the target qubit which is in the quantum register `qreg_q[1]`. And this can be changed. That is, you can make the qubit in the quantum register `qreg_q[1]` as your controlled qubit and the qubit in the quantum register `qreg_q[0]` as your target qubit by simply switching the 5th line of the code to:  `circuit.cx(qreg_q[1], qreg_q[0])`. The circuit will look like:"
   ]
  },
  {
   "cell_type": "code",
   "execution_count": 12,
   "id": "c056b031",
   "metadata": {
    "ExecuteTime": {
     "end_time": "2025-02-28T03:43:14.688126Z",
     "start_time": "2025-02-28T03:43:14.680123Z"
    }
   },
   "outputs": [],
   "source": [
    "from qiskit import QuantumRegister, ClassicalRegister, QuantumCircuit, transpile\n",
    "from qiskit.visualization import plot_histogram\n",
    "from qiskit_aer import Aer  \n",
    "from qiskit_aer import AerSimulator\n",
    "\n",
    "# Define a quantum register with 2 qubits\n",
    "qreg_q = QuantumRegister(2, 'q')\n",
    "# Define a classical register with 2 classical bits (for measurement results)\n",
    "creg_c = ClassicalRegister(2, 'c')"
   ]
  },
  {
   "cell_type": "code",
   "execution_count": 13,
   "id": "ec02b901",
   "metadata": {
    "ExecuteTime": {
     "end_time": "2025-02-28T03:43:16.768123Z",
     "start_time": "2025-02-28T03:43:16.752123Z"
    }
   },
   "outputs": [
    {
     "name": "stdout",
     "output_type": "stream",
     "text": [
      "     \n",
      "q_0: \n",
      "     \n",
      "q_1: \n",
      "     \n",
      "c: 2/\n",
      "     \n"
     ]
    }
   ],
   "source": [
    "# Initialize a quantum circuit with the quantum and classical registers\n",
    "circuit = QuantumCircuit(qreg_q, creg_c)\n",
    "print(circuit)"
   ]
  },
  {
   "cell_type": "markdown",
   "id": "537f761d",
   "metadata": {},
   "source": [
    "Note that the $X$ gate here is to put the qubit $q_0$ from the state $|0\\rangle$ to $|1\\rangle$. That is, we are making the input state $|10\\rangle$. The output state now would be $|11\\rangle$ as the controlled qubit is now in the state $|1\\rangle$, so it will act on the target qubit by applying the $X$ (NOT) gate."
   ]
  },
  {
   "cell_type": "code",
   "execution_count": 14,
   "id": "254830a4",
   "metadata": {
    "ExecuteTime": {
     "end_time": "2025-02-28T03:43:19.512124Z",
     "start_time": "2025-02-28T03:43:19.496124Z"
    }
   },
   "outputs": [
    {
     "name": "stdout",
     "output_type": "stream",
     "text": [
      "     ┌───┐\n",
      "q_0: ┤ X ├\n",
      "     └───┘\n",
      "q_1: ─────\n",
      "          \n",
      "c: 2/═════\n",
      "          \n"
     ]
    }
   ],
   "source": [
    "# Apply an X (NOT) gate to qreg_q[0], flipping it from |0⟩ to |1⟩\n",
    "circuit.x(qreg_q[0])\n",
    "print(circuit)"
   ]
  },
  {
   "cell_type": "code",
   "execution_count": 15,
   "id": "7df67c3e",
   "metadata": {
    "ExecuteTime": {
     "end_time": "2025-02-28T03:43:22.314125Z",
     "start_time": "2025-02-28T03:43:22.297128Z"
    }
   },
   "outputs": [
    {
     "name": "stdout",
     "output_type": "stream",
     "text": [
      "     ┌───┐     \n",
      "q_0: ┤ X ├──■──\n",
      "     └───┘┌─┴─┐\n",
      "q_1: ─────┤ X ├\n",
      "          └───┘\n",
      "c: 2/══════════\n",
      "               \n"
     ]
    }
   ],
   "source": [
    "# Apply a CNOT gate with qreg_q[0] as control and qreg_q[1] as target\n",
    "circuit.cx(qreg_q[0], qreg_q[1])\n",
    "print(circuit)"
   ]
  },
  {
   "cell_type": "code",
   "execution_count": 16,
   "id": "179f6927",
   "metadata": {
    "ExecuteTime": {
     "end_time": "2025-02-28T03:43:25.220126Z",
     "start_time": "2025-02-28T03:43:25.209126Z"
    }
   },
   "outputs": [
    {
     "name": "stdout",
     "output_type": "stream",
     "text": [
      "     ┌───┐     ┌─┐\n",
      "q_0: ┤ X ├──■──┤M├\n",
      "     └───┘┌─┴─┐└╥┘\n",
      "q_1: ─────┤ X ├─╫─\n",
      "          └───┘ ║ \n",
      "c: 2/═══════════╩═\n",
      "                0 \n"
     ]
    }
   ],
   "source": [
    "# Measure both qubits and store results in classical bits\n",
    "circuit.measure(qreg_q[0], creg_c[0])\n",
    "print(circuit)"
   ]
  },
  {
   "cell_type": "code",
   "execution_count": 17,
   "id": "3b8b117a",
   "metadata": {
    "ExecuteTime": {
     "end_time": "2025-02-28T03:43:27.399124Z",
     "start_time": "2025-02-28T03:43:27.393125Z"
    }
   },
   "outputs": [
    {
     "name": "stdout",
     "output_type": "stream",
     "text": [
      "     ┌───┐     ┌─┐   \n",
      "q_0: ┤ X ├──■──┤M├───\n",
      "     └───┘┌─┴─┐└╥┘┌─┐\n",
      "q_1: ─────┤ X ├─╫─┤M├\n",
      "          └───┘ ║ └╥┘\n",
      "c: 2/═══════════╩══╩═\n",
      "                0  1 \n"
     ]
    }
   ],
   "source": [
    "# Measure both qubits and store results in classical bits\n",
    "circuit.measure(qreg_q[1], creg_c[1])\n",
    "print(circuit)"
   ]
  },
  {
   "cell_type": "markdown",
   "id": "97f97e95",
   "metadata": {},
   "source": [
    "# Theory and Explanation of the Code\n",
    "\n",
    "This quantum circuit demonstrates the action of the X (NOT) gate and the CNOT (Controlled-NOT) gate on a 2-qubit system, followed by measurement.\n",
    "\n",
    "---\n",
    "\n",
    "## Initial State of the Qubits\n",
    "\n",
    "A quantum computer initializes all qubits in the $|0\\rangle$ state by default. Since we are using two qubits, the initial state is:\n",
    "\n",
    "$$\n",
    "|00\\rangle = |0\\rangle \\otimes |0\\rangle = \\begin{pmatrix} 1 \\\\ 0 \\end{pmatrix} \\otimes \\begin{pmatrix} 1 \\\\ 0 \\end{pmatrix} = \\begin{pmatrix} 1 \\\\ 0 \\\\ 0 \\\\ 0 \\end{pmatrix}\n",
    "$$\n",
    "\n",
    "---\n",
    "\n",
    "## Applying the X (NOT) Gate on Qubit $q_0$\n",
    "\n",
    "The X gate (Pauli-X) is the quantum equivalent of the classical NOT gate. It flips $|0\\rangle$ to $|1\\rangle$ and vice versa. The matrix representation is:\n",
    "\n",
    "$$\n",
    "X =\n",
    "\\begin{pmatrix} \n",
    "0 & 1 \\\\ \n",
    "1 & 0 \n",
    "\\end{pmatrix}\n",
    "$$\n",
    "\n",
    "Applying **$X$** to qubit $q_0$ transforms the state:\n",
    "\n",
    "$$\n",
    "X|0\\rangle = |1\\rangle\n",
    "$$\n",
    "\n",
    "So, the **new state** of the system is:\n",
    "\n",
    "$$\n",
    "|10\\rangle = |1\\rangle \\otimes |0\\rangle = \\begin{pmatrix} 0 \\\\ 1 \\end{pmatrix} \\otimes \\begin{pmatrix} 1 \\\\ 0 \\end{pmatrix} = \\begin{pmatrix} 0 \\\\ 1 \\\\ 0 \\\\ 0 \\end{pmatrix}\n",
    "$$\n",
    "\n",
    "---\n",
    "\n",
    "## Applying the CNOT Gate\n",
    "\n",
    "The CNOT (Controlled-NOT) Gate flips the target qubit ($q_1$) if and only if the control qubit ($q_0$) is in the $|1\\rangle$ state. The CNOT matrix representation for two qubits is:\n",
    "\n",
    "$$\n",
    "CNOT =\n",
    "\\begin{pmatrix}\n",
    "1 & 0 & 0 & 0 \\\\\n",
    "0 & 1 & 0 & 0 \\\\\n",
    "0 & 0 & 0 & 1 \\\\\n",
    "0 & 0 & 1 & 0\n",
    "\\end{pmatrix}\n",
    "$$\n",
    "\n",
    "Since our current state before applying CNOT is:\n",
    "\n",
    "$$\n",
    "|10\\rangle = \\begin{pmatrix} 0 \\\\ 1 \\\\ 0 \\\\ 0 \\end{pmatrix}\n",
    "$$\n",
    "\n",
    "Multiplying the **CNOT matrix** by this state:\n",
    "\n",
    "$$\n",
    "\\begin{pmatrix}\n",
    "1 & 0 & 0 & 0 \\\\\n",
    "0 & 1 & 0 & 0 \\\\\n",
    "0 & 0 & 0 & 1 \\\\\n",
    "0 & 0 & 1 & 0\n",
    "\\end{pmatrix}\n",
    "\\begin{pmatrix} 0 \\\\ 1 \\\\ 0 \\\\ 0 \\end{pmatrix}\n",
    "=\n",
    "\\begin{pmatrix} 0 \\\\ 1 \\\\ 0 \\\\ 0 \\end{pmatrix}\n",
    "$$\n",
    "\n",
    "Since **CNOT only affects the target qubit when the control is $|1\\rangle$**, the result is:\n",
    "\n",
    "$$\n",
    "|11\\rangle = \\begin{pmatrix} 0 \\\\ 0 \\\\ 0 \\\\ 1 \\end{pmatrix}\n",
    "$$\n",
    "\n",
    "Thus, after applying the **CNOT gate**, our **final quantum state is $|11\\rangle$**.\n",
    "\n",
    "---\n",
    "\n",
    "## **4. Measurement of the Qubits**\n",
    "At the end of the circuit, both qubits are **measured**. This collapses the quantum state into a classical bitstring.\n",
    "\n",
    "$$\n",
    "\\text{Measurement: } |11\\rangle \\rightarrow \\text{ Classical Output } \"11\"\n",
    "$$\n",
    "\n",
    "The measurement results are stored in the classical register:\n",
    "\n",
    "- `creg_c[0]` stores the measurement of `qreg_q[0]`\n",
    "- `creg_c[1]` stores the measurement of `qreg_q[1]`\n",
    "\n",
    "Since there is no superposition in this circuit, the output is always **\"11\"** with **100% probability**.\n",
    "\n",
    "---\n",
    "\n",
    "## **5. Running the Circuit on a Simulator**\n",
    "1. **`AerSimulator()`**: Creates a quantum simulator that can execute the circuit.\n",
    "2. **`transpile(circuit, simulator)`**: Optimizes the circuit for execution.\n",
    "3. **`simulator.run(compiled_circuit).result()`**: Runs the quantum circuit and retrieves the results.\n",
    "4. **`result.get_counts()`**: Retrieves the number of occurrences of each measurement result.\n",
    "\n",
    "Since the final state is always **$|11\\rangle$**, the histogram will show:\n",
    "\n",
    "```\n",
    "{\"11\": 1024  # (If shots=1024)}\n",
    "```\n",
    "\n",
    "This means that **every time the circuit is executed, the result is always \"11\"**, confirming our calculations.\n",
    "\n",
    "---\n",
    "\n",
    "## **Final Summary**\n",
    "1. **Initial state**: $|00\\rangle$  \n",
    "2. **Apply X gate** on `q_0`: State changes to **$|10\\rangle$**  \n",
    "3. **Apply CNOT gate** (control = `q_0`, target = `q_1`): State changes to **$|11\\rangle$**  \n",
    "4. **Measurement** collapses the state to `\"11\"` in classical bits  \n",
    "5. **Simulator executes the circuit** and confirms `\"11\"` is the only possible result  \n",
    "\n",
    "### **Expected Measurement Output:**\n",
    "- **100% probability of measuring \"11\"**  \n",
    "- **No other outcomes appear in the histogram**\n",
    "\n",
    "This circuit is a simple example of **quantum entanglement**, where one qubit's value controls another qubit's transformation."
   ]
  },
  {
   "cell_type": "code",
   "execution_count": 8,
   "id": "3bdea09e",
   "metadata": {
    "ExecuteTime": {
     "end_time": "2025-02-28T03:42:47.834122Z",
     "start_time": "2025-02-28T03:42:46.950128Z"
    }
   },
   "outputs": [],
   "source": [
    "from qiskit import QuantumRegister, ClassicalRegister, QuantumCircuit, transpile\n",
    "from qiskit.visualization import plot_histogram\n",
    "from qiskit_aer import Aer  \n",
    "from qiskit_aer import AerSimulator\n",
    "\n",
    "# Define a quantum register with 2 qubits\n",
    "qreg_q = QuantumRegister(2, 'q')\n",
    "# Define a classical register with 2 classical bits (for measurement results)\n",
    "creg_c = ClassicalRegister(2, 'c')\n",
    "# Initialize a quantum circuit with the quantum and classical registers\n",
    "circuit = QuantumCircuit(qreg_q, creg_c)\n",
    "# Apply an X (NOT) gate to qreg_q[0], flipping it from |0⟩ to |1⟩\n",
    "circuit.x(qreg_q[0])\n",
    "# Apply a CNOT gate with qreg_q[0] as control and qreg_q[1] as target\n",
    "circuit.cx(qreg_q[0], qreg_q[1])\n",
    "# Measure both qubits and store results in classical bits\n",
    "circuit.measure(qreg_q[0], creg_c[0])\n",
    "circuit.measure(qreg_q[1], creg_c[1])\n",
    "# Draw the circuit\n",
    "circuit.draw('mpl', style={'name': 'bw'}, plot_barriers=False, scale=1)\n",
    "# Use the Qiskit Aer simulator to run the circuit\n",
    "simulator = AerSimulator()\n",
    "compiled_circuit = transpile(circuit, simulator)\n",
    "result = simulator.run(compiled_circuit).result()\n",
    "# Get the counts of outcomes\n",
    "counts = result.get_counts()"
   ]
  },
  {
   "cell_type": "code",
   "execution_count": 9,
   "id": "cd06a173",
   "metadata": {
    "ExecuteTime": {
     "end_time": "2025-02-28T03:42:47.850122Z",
     "start_time": "2025-02-28T03:42:47.836125Z"
    }
   },
   "outputs": [
    {
     "name": "stdout",
     "output_type": "stream",
     "text": [
      "     ┌───┐     ┌─┐   \n",
      "q_0: ┤ X ├──■──┤M├───\n",
      "     └───┘┌─┴─┐└╥┘┌─┐\n",
      "q_1: ─────┤ X ├─╫─┤M├\n",
      "          └───┘ ║ └╥┘\n",
      "c: 2/═══════════╩══╩═\n",
      "                0  1 \n"
     ]
    }
   ],
   "source": [
    "print(circuit)"
   ]
  },
  {
   "cell_type": "markdown",
   "id": "09c3cc03",
   "metadata": {},
   "source": [
    "And you can work this out explicitly in matrix algebra as well:\n",
    "\n",
    "$$\n",
    "CNOT |10\\rangle =\n",
    "\\begin{pmatrix}\n",
    "1 & 0 & 0 & 0 \\\\\n",
    "0 & 1 & 0 & 0 \\\\\n",
    "0 & 0 & 0 & 1 \\\\\n",
    "0 & 0 & 1 & 0\n",
    "\\end{pmatrix}\n",
    "\\begin{pmatrix} 0 \\\\ 0 \\\\ 1 \\\\ 0 \\end{pmatrix}\n",
    "=\n",
    "\\begin{pmatrix} 0 \\\\ 0 \\\\ 0 \\\\ 1 \\end{pmatrix}\n",
    "= |11\\rangle\n",
    "$$"
   ]
  },
  {
   "cell_type": "code",
   "execution_count": 10,
   "id": "24929b8b",
   "metadata": {
    "ExecuteTime": {
     "end_time": "2025-02-28T03:42:47.944129Z",
     "start_time": "2025-02-28T03:42:47.852125Z"
    }
   },
   "outputs": [
    {
     "data": {
      "image/png": "[encoded data removed]",
      "text/plain": [
       "<Figure size 640x480 with 1 Axes>"
      ]
     },
     "execution_count": 10,
     "metadata": {},
     "output_type": "execute_result"
    }
   ],
   "source": [
    "# Retrieve and plot the measurement results\n",
    "plot_histogram(counts, color='black', title=\"Result\")"
   ]
  }
 ],
 "metadata": {
  "hide_input": false,
  "kernelspec": {
   "display_name": "Python 3 (ipykernel)",
   "language": "python",
   "name": "python3"
  },
  "language_info": {
   "codemirror_mode": {
    "name": "ipython",
    "version": 3
   },
   "file_extension": ".py",
   "mimetype": "text/x-python",
   "name": "python",
   "nbconvert_exporter": "python",
   "pygments_lexer": "ipython3",
   "version": "3.9.13"
  },
  "toc": {
   "base_numbering": 1,
   "nav_menu": {},
   "number_sections": true,
   "sideBar": true,
   "skip_h1_title": false,
   "title_cell": "Table of Contents",
   "title_sidebar": "Contents",
   "toc_cell": false,
   "toc_position": {},
   "toc_section_display": true,
   "toc_window_display": false
  },
  "varInspector": {
   "cols": {
    "lenName": 16,
    "lenType": 16,
    "lenVar": 40
   },
   "kernels_config": {
    "python": {
     "delete_cmd_postfix": "",
     "delete_cmd_prefix": "del ",
     "library": "var_list.py",
     "varRefreshCmd": "print(var_dic_list())"
    },
    "r": {
     "delete_cmd_postfix": ") ",
     "delete_cmd_prefix": "rm(",
     "library": "var_list.r",
     "varRefreshCmd": "cat(var_dic_list()) "
    }
   },
   "types_to_exclude": [
    "module",
    "function",
    "builtin_function_or_method",
    "instance",
    "_Feature"
   ],
   "window_display": false
  }
 },
 "nbformat": 4,
 "nbformat_minor": 5
}

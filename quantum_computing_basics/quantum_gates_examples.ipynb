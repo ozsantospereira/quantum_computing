{
 "cells": [
  {
   "cell_type": "markdown",
   "metadata": {
    "heading_collapsed": true
   },
   "source": [
    "# Requirements"
   ]
  },
  {
   "cell_type": "code",
   "execution_count": 1,
   "metadata": {
    "ExecuteTime": {
     "end_time": "2025-02-28T00:46:51.057538Z",
     "start_time": "2025-02-28T00:46:50.043540Z"
    },
    "hidden": true
   },
   "outputs": [],
   "source": [
    "# Import necessary libraries\n",
    "from qiskit import QuantumCircuit, transpile\n",
    "from qiskit_aer import AerSimulator\n",
    "from qiskit.visualization import plot_histogram, plot_bloch_multivector\n",
    "import matplotlib.pyplot as plt"
   ]
  },
  {
   "cell_type": "markdown",
   "metadata": {},
   "source": [
    "# Quantum Gates - The Building Blocks of Quantum Circuits \n",
    "\n",
    "Quantum gates are the quantum equivalent of classical logic gates. They manipulate qubits through quantum operations, allowing us to create complex quantum algorithms. Some basic quantum gates include the Pauli-X, Pauli-Y, Pauli-Z, Hadamard (H), and CNOT gates.\n",
    "\n",
    "Quantum gates are essential for constructing quantum circuits. They enable operations like superposition and entanglement, which are the core features that give quantum computers their unique computational power.\n",
    "\n",
    "In quantum computing, rotation gates (Rx, Ry, Rz) are single-qubit gates that perform rotations around the x, y, and z axes of the Bloch sphere. Here's an explanation and the matrix representation for each:\n",
    "\n",
    "## Rx Gate (Rotation around X-axis)\n",
    "\n",
    "The Rx gate rotates the qubit state around the x-axis of the Bloch sphere by a given angle θ.\n",
    "\n",
    "$$\n",
    "Rx(\\theta) = \\begin{pmatrix}\n",
    "\\cos(\\frac{\\theta}{2}) & -i\\sin(\\frac{\\theta}{2}) \\\\\n",
    "-i\\sin(\\frac{\\theta}{2}) & \\cos(\\frac{\\theta}{2})\n",
    "\\end{pmatrix}\n",
    "$$\n",
    "\n",
    "For example, a rotation of π radians (180 degrees) flips the qubit's state between |0⟩ and |1⟩ around the x-axis.\n",
    "\n",
    "## Ry Gate (Rotation around Y-axis)\n",
    "\n",
    "The Ry gate rotates the qubit state around the y-axis of the Bloch sphere by a given angle θ.\n",
    "\n",
    "$$\n",
    "Ry(\\theta) = \\begin{pmatrix}\n",
    "\\cos(\\frac{\\theta}{2}) & -\\sin(\\frac{\\theta}{2}) \\\\\n",
    "\\sin(\\frac{\\theta}{2}) & \\cos(\\frac{\\theta}{2})\n",
    "\\end{pmatrix}\n",
    "$$\n",
    "\n",
    "A rotation of π radians (180 degrees) rotates the qubit between |0⟩ and |1⟩ around the y-axis.\n",
    "\n",
    "## Rz Gate (Rotation around Z-axis)\n",
    "\n",
    "The Rz gate rotates the qubit state around the z-axis of the Bloch sphere by a given angle θ.\n",
    "\n",
    "$$\n",
    "Rz(\\theta) = \\begin{pmatrix}\n",
    "e^{-i\\frac{\\theta}{2}} & 0 \\\\\n",
    "0 & e^{i\\frac{\\theta}{2}}\n",
    "\\end{pmatrix}\n",
    "$$\n",
    "\n",
    "A rotation of π radians (180 degrees) around the z-axis introduces a phase shift between the |0⟩ and |1⟩ components of the qubit. These gates are fundamental in controlling the state of qubits in quantum circuits, allowing precise manipulations to implement quantum algorithms. Here's a simple example in Qiskit using the latest version to demonstrate some basic quantum gates:"
   ]
  },
  {
   "cell_type": "code",
   "execution_count": 10,
   "metadata": {
    "ExecuteTime": {
     "end_time": "2025-02-28T00:49:14.523539Z",
     "start_time": "2025-02-28T00:49:14.429539Z"
    }
   },
   "outputs": [
    {
     "name": "stdout",
     "output_type": "stream",
     "text": [
      "Counts: {'0': 536, '1': 488}\n"
     ]
    }
   ],
   "source": [
    "# Create a Quantum Circuit with 1 qubit\n",
    "qc = QuantumCircuit(1, 1)\n",
    "# Apply Pauli-X (NOT) gate\n",
    "qc.x(0)\n",
    "# Apply Hadamard gate to create superposition\n",
    "qc.h(0)\n",
    "# Apply Pauli-Z gate\n",
    "qc.z(0)\n",
    "# Measure the qubit\n",
    "qc.measure(0, 0)\n",
    "# Use the Qiskit Aer simulator to run the circuit\n",
    "simulator = AerSimulator()\n",
    "compiled_circuit = transpile(qc, simulator)\n",
    "result = simulator.run(compiled_circuit).result()\n",
    "# Get the counts of outcomes\n",
    "counts = result.get_counts()\n",
    "print(\"Counts:\", counts)"
   ]
  },
  {
   "cell_type": "markdown",
   "metadata": {},
   "source": [
    "In this example, we create a quantum circuit with a single qubit. We apply a series of quantum gates: the Pauli-X gate flips the qubit state, the Hadamard gate creates a superposition, and the Pauli-Z gate applies a phase flip. Finally, we measure the qubit to observe the result."
   ]
  },
  {
   "cell_type": "code",
   "execution_count": 9,
   "metadata": {
    "ExecuteTime": {
     "end_time": "2025-02-28T00:46:52.259537Z",
     "start_time": "2025-02-28T00:46:52.055540Z"
    },
    "slideshow": {
     "slide_type": "notes"
    }
   },
   "outputs": [
    {
     "data": {
      "image/png": "[encoded data removed]",
      "text/plain": [
       "<Figure size 436.286x200.667 with 1 Axes>"
      ]
     },
     "execution_count": 9,
     "metadata": {},
     "output_type": "execute_result"
    }
   ],
   "source": [
    "# Visualize the results\n",
    "plot_histogram(counts)\n",
    "plt.show()\n",
    "qc.draw('mpl')\n"
   ]
  }
 ],
 "metadata": {
  "hide_input": false,
  "kernelspec": {
   "display_name": "Python 3 (ipykernel)",
   "language": "python",
   "name": "python3"
  },
  "language_info": {
   "codemirror_mode": {
    "name": "ipython",
    "version": 3
   },
   "file_extension": ".py",
   "mimetype": "text/x-python",
   "name": "python",
   "nbconvert_exporter": "python",
   "pygments_lexer": "ipython3",
   "version": "3.9.13"
  },
  "toc": {
   "base_numbering": 1,
   "nav_menu": {},
   "number_sections": true,
   "sideBar": true,
   "skip_h1_title": false,
   "title_cell": "Table of Contents",
   "title_sidebar": "Contents",
   "toc_cell": false,
   "toc_position": {},
   "toc_section_display": true,
   "toc_window_display": false
  },
  "varInspector": {
   "cols": {
    "lenName": 16,
    "lenType": 16,
    "lenVar": 40
   },
   "kernels_config": {
    "python": {
     "delete_cmd_postfix": "",
     "delete_cmd_prefix": "del ",
     "library": "var_list.py",
     "varRefreshCmd": "print(var_dic_list())"
    },
    "r": {
     "delete_cmd_postfix": ") ",
     "delete_cmd_prefix": "rm(",
     "library": "var_list.r",
     "varRefreshCmd": "cat(var_dic_list()) "
    }
   },
   "types_to_exclude": [
    "module",
    "function",
    "builtin_function_or_method",
    "instance",
    "_Feature"
   ],
   "window_display": false
  }
 },
 "nbformat": 4,
 "nbformat_minor": 2
}
